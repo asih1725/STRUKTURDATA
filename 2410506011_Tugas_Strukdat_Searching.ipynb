{
  "nbformat": 4,
  "nbformat_minor": 0,
  "metadata": {
    "colab": {
      "provenance": [],
      "authorship_tag": "ABX9TyO5GsbJkBwVhjffwaZ+RqRZ",
      "include_colab_link": true
    },
    "kernelspec": {
      "name": "python3",
      "display_name": "Python 3"
    },
    "language_info": {
      "name": "python"
    }
  },
  "cells": [
    {
      "cell_type": "markdown",
      "metadata": {
        "id": "view-in-github",
        "colab_type": "text"
      },
      "source": [
        "<a href=\"https://colab.research.google.com/github/asih1725/STRUKTURDATA/blob/main/2410506011_Tugas_Strukdat_Searching.ipynb\" target=\"_parent\"><img src=\"https://colab.research.google.com/assets/colab-badge.svg\" alt=\"Open In Colab\"/></a>"
      ]
    },
    {
      "cell_type": "code",
      "source": [
        "def linear_search(arr, target):\n",
        "  for i in range(len(arr)):\n",
        "    if arr[i]== target:\n",
        "      return i\n",
        "  return -i\n",
        "\n",
        "def linear_search(arr, target):\n",
        "  for i in range(len(arr)):\n",
        "    if arr[i]== target:\n",
        "      return i\n",
        "  return -1\n",
        "\n",
        "# gantilah dengan angka acak dan NPM anda\n",
        "arr = [13, 13, 11, 15, 50, 60, 70, 100, 6]\n",
        "target = int(input(\"Masukkan 3 digit terakhir NPM anda: \"))\n",
        "\n",
        "result = linear_search(arr, target)\n",
        "\n",
        "if result != -1:\n",
        "  print(f\"Elemen ditemukan pada indeks {result}\")\n",
        "else:\n",
        "  print(\"Elemen tidak ditemukan\")\n"
      ],
      "metadata": {
        "colab": {
          "base_uri": "https://localhost:8080/"
        },
        "id": "M5-fMOijQF2T",
        "outputId": "30fd8a9e-fdcc-417e-8275-a827c11e58a2"
      },
      "execution_count": null,
      "outputs": [
        {
          "output_type": "stream",
          "name": "stdout",
          "text": [
            "Masukkan 3 digit terakhir NPM anda: 011\n",
            "Elemen ditemukan pada indeks 2\n"
          ]
        }
      ]
    },
    {
      "cell_type": "code",
      "source": [
        "def binary_search(arr, target):\n",
        "    low = 0\n",
        "    high = len(arr) - 1\n",
        "\n",
        "    while low <= high:\n",
        "        mid = (low + high) // 2\n",
        "        if arr[mid] == target:\n",
        "            return mid\n",
        "        elif arr[mid] < target:\n",
        "            low = mid + 1\n",
        "        else:\n",
        "            high = mid - 1\n",
        "\n",
        "    return -1\n",
        "\n",
        "# Gantilah dengan angka terurut dan tanggal lahir Anda (DDMM)\n",
        "arr = [11, 12, 13, 14, 15, 16, 17, 19, 20]\n",
        "\n",
        "target = int(input(\"Masukkan tanggal lahir Anda (DDMM): \"))\n",
        "\n",
        "result = binary_search(arr, target)\n",
        "\n",
        "if result != -1:\n",
        "    print(f\"Elemen ditemukan pada indeks {result}\")\n",
        "else:\n",
        "    print(\"Elemen tidak ditemukan\")\n"
      ],
      "metadata": {
        "colab": {
          "base_uri": "https://localhost:8080/"
        },
        "id": "dM5-vOcESCbq",
        "outputId": "5756f1e9-3a05-4187-ef14-219c84bd756b"
      },
      "execution_count": 1,
      "outputs": [
        {
          "output_type": "stream",
          "name": "stdout",
          "text": [
            "Masukkan tanggal lahir Anda (DDMM): 17\n",
            "Elemen ditemukan pada indeks 6\n"
          ]
        }
      ]
    },
    {
      "cell_type": "code",
      "source": [
        "import math\n",
        "\n",
        "def jump_search(arr, target):\n",
        "    n = len(arr)\n",
        "    step = int(math.sqrt(n))\n",
        "    prev = 0\n",
        "\n",
        "    while arr[min(step, n) - 1] < target:\n",
        "        prev = step\n",
        "        step += int(math.sqrt(n))\n",
        "        if prev >= n:\n",
        "            return -1\n",
        "\n",
        "    for i in range(prev, min(step, n)):\n",
        "        if arr[i].startswith(target):\n",
        "            return i\n",
        "\n",
        "    return -1\n",
        "\n",
        "# Daftar nama dalam urutan alfabet\n",
        "arr = [\"Apfia\", \"Bac\", \"Cac\", \"David\", \"Evellyn\", \"Fadlika\", \"Gita\", \"Hammam\", \"Setiasih\", \"Zurich\"]\n",
        "\n",
        "target = input(\"Masukkan inisial nama Anda: \").capitalize()\n",
        "\n",
        "result = jump_search(arr, target)\n",
        "\n",
        "if result != -1:\n",
        "    print(f\"Nama ditemukan: {arr[result]} pada indeks {result}\")\n",
        "else:\n",
        "    print(\"Tidak ada nama dengan inisial tersebut.\")\n"
      ],
      "metadata": {
        "colab": {
          "base_uri": "https://localhost:8080/"
        },
        "id": "HsCfAGrMfZig",
        "outputId": "08d3feb9-34a3-4889-b19a-97699523eced"
      },
      "execution_count": 2,
      "outputs": [
        {
          "output_type": "stream",
          "name": "stdout",
          "text": [
            "Masukkan inisial nama Anda: s\n",
            "Nama ditemukan: Setiasih pada indeks 8\n"
          ]
        }
      ]
    },
    {
      "cell_type": "markdown",
      "source": [
        "# Latihan/Tugas"
      ],
      "metadata": {
        "id": "MKEYGuknYmec"
      }
    },
    {
      "cell_type": "code",
      "source": [
        "import random\n",
        "import math\n",
        "\n",
        "# Membuat daftar 100 angka unik acak dalam rentang 1-1000\n",
        "data = random.sample(range(1, 1001), 100)\n",
        "data.sort()  # Mengurutkan daftar\n",
        "\n",
        "# Memilih target (elemen tengah daftar untuk memastikan ada dalam array)\n",
        "target = data[len(data) // 2]\n",
        "\n",
        "# Implementasi Linear Search dengan perhitungan tambahan\n",
        "def linear_search(arr, x):\n",
        "    comparisons = 0\n",
        "    for i in range(len(arr)):\n",
        "        comparisons += 1\n",
        "        if arr[i] == x:\n",
        "            return i, comparisons\n",
        "    return -1, comparisons\n",
        "\n",
        "# Implementasi Binary Search dengan perhitungan tambahan\n",
        "def binary_search(arr, x):\n",
        "    left, right = 0, len(arr) - 1\n",
        "    comparisons = 0\n",
        "    while left <= right:\n",
        "        comparisons += 1  # Menghitung perbandingan saat mencari elemen tengah\n",
        "        mid = (left + right) // 2\n",
        "        if arr[mid] == x:\n",
        "            return mid, comparisons\n",
        "        elif arr[mid] < x:\n",
        "            left = mid + 1\n",
        "        else:\n",
        "            right = mid - 1\n",
        "    return -1, comparisons\n",
        "\n",
        "# Implementasi Jump Search dengan perhitungan tambahan\n",
        "def jump_search(arr, x):\n",
        "    n = len(arr)\n",
        "    step = int(math.sqrt(n))\n",
        "    prev, comparisons = 0, 0\n",
        "\n",
        "    # Melompati blok untuk menemukan kemungkinan posisi elemen\n",
        "    while prev < n and arr[min(step, n) - 1] < x:\n",
        "        comparisons += 1  # Menghitung perbandingan saat melompat\n",
        "        prev = step\n",
        "        step += int(math.sqrt(n))\n",
        "        if prev >= n:\n",
        "            return -1, comparisons\n",
        "\n",
        "    # Linear search dalam blok\n",
        "    while prev < min(step, n):\n",
        "        comparisons += 1  # Menghitung perbandingan dalam blok\n",
        "        if arr[prev] == x:\n",
        "            return prev, comparisons\n",
        "        prev += 1\n",
        "\n",
        "    return -1, comparisons\n",
        "\n",
        "# Menjalankan pencarian\n",
        "lin_idx, lin_cmp = linear_search(data, target)\n",
        "bin_idx, bin_cmp = binary_search(data, target)\n",
        "jmp_idx, jmp_cmp = jump_search(data, target)\n",
        "\n",
        "# Menampilkan hasil\n",
        "print(f\"Target: {target}\")\n",
        "print(f\"Linear Search: {lin_cmp} perbandingan\")\n",
        "print(f\"Binary Search: {bin_cmp} perbandingan\")\n",
        "print(f\"Jump Search: {jmp_cmp} perbandingan\")\n"
      ],
      "metadata": {
        "colab": {
          "base_uri": "https://localhost:8080/"
        },
        "id": "El8hRoJ5XJB0",
        "outputId": "e6656c4a-c344-4f96-d1b9-ca50c5e47b51"
      },
      "execution_count": null,
      "outputs": [
        {
          "output_type": "stream",
          "name": "stdout",
          "text": [
            "Target: 441\n",
            "Linear Search: 51 perbandingan\n",
            "Binary Search: 6 perbandingan\n",
            "Jump Search: 6 perbandingan\n"
          ]
        }
      ]
    },
    {
      "cell_type": "code",
      "source": [
        "import random\n",
        "import math\n",
        "from tabulate import tabulate\n",
        "\n",
        "def generate_sorted_list(size=100, range_max=1000):\n",
        "    return sorted(random.sample(range(1, range_max + 1), size))\n",
        "\n",
        "def linear_search(arr, target):\n",
        "    comparisons = 0\n",
        "    for i, num in enumerate(arr):\n",
        "        comparisons += 1\n",
        "        if num == target:\n",
        "            return i, comparisons\n",
        "    return -1, comparisons\n",
        "\n",
        "def binary_search(arr, target):\n",
        "    left, right = 0, len(arr) - 1\n",
        "    comparisons = 0\n",
        "    while left <= right:\n",
        "        mid = (left + right) // 2\n",
        "        comparisons += 1\n",
        "        if arr[mid] == target:\n",
        "            return mid, comparisons\n",
        "        elif arr[mid] < target:\n",
        "            left = mid + 1\n",
        "        else:\n",
        "            right = mid - 1\n",
        "    return -1, comparisons\n",
        "\n",
        "def jump_search(arr, target):\n",
        "    n = len(arr)\n",
        "    step = int(math.sqrt(n))\n",
        "    prev, comparisons = 0, 0\n",
        "\n",
        "    while prev < n and arr[min(step, n) - 1] < target:\n",
        "        comparisons += 1\n",
        "        prev = step\n",
        "        step += int(math.sqrt(n))\n",
        "        if prev >= n:\n",
        "            return -1, comparisons\n",
        "\n",
        "    for i in range(prev, min(step, n)):\n",
        "        comparisons += 1\n",
        "        if arr[i] == target:\n",
        "            return i, comparisons\n",
        "\n",
        "    return -1, comparisons\n",
        "\n",
        "# Generate sorted list\n",
        "data = generate_sorted_list()\n",
        "target = data[len(data) // 2]  # Choose middle element as target\n",
        "\n",
        "# Perform searches\n",
        "lin_result, lin_comp = linear_search(data, target)\n",
        "bin_result, bin_comp = binary_search(data, target)\n",
        "jump_result, jump_comp = jump_search(data, target)\n",
        "\n",
        "# Print results with tabulate\n",
        "table = [\n",
        "    [\"Linear Search\", lin_result, lin_comp],\n",
        "    [\"Binary Search\", bin_result, bin_comp],\n",
        "    [\"Jump Search\", jump_result, jump_comp]\n",
        "]\n",
        "\n",
        "print(f\"\\n🔍 Elemen tengah yang dicari: {target} 🔍\\n\")\n",
        "print(tabulate(table, headers=[\"Algoritma Pencarian\", \"Index\", \"Jumlah Perbandingan\"], tablefmt=\"grid\"))"
      ],
      "metadata": {
        "colab": {
          "base_uri": "https://localhost:8080/"
        },
        "id": "rKhEWQIrg0oS",
        "outputId": "b96876e1-e6c7-4c6b-cf45-f73bfc51906f"
      },
      "execution_count": 10,
      "outputs": [
        {
          "output_type": "stream",
          "name": "stdout",
          "text": [
            "\n",
            "🔍 Elemen tengah yang dicari: 572 🔍\n",
            "\n",
            "+-----------------------+---------+-----------------------+\n",
            "| Algoritma Pencarian   |   Index |   Jumlah Perbandingan |\n",
            "+=======================+=========+=======================+\n",
            "| Linear Search         |      50 |                    51 |\n",
            "+-----------------------+---------+-----------------------+\n",
            "| Binary Search         |      50 |                     6 |\n",
            "+-----------------------+---------+-----------------------+\n",
            "| Jump Search           |      50 |                     6 |\n",
            "+-----------------------+---------+-----------------------+\n"
          ]
        }
      ]
    },
    {
      "cell_type": "markdown",
      "source": [],
      "metadata": {
        "id": "bppmIPGTikjo"
      }
    }
  ]
}