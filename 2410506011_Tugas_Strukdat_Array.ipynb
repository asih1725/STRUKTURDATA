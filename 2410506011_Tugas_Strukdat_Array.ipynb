{
  "nbformat": 4,
  "nbformat_minor": 0,
  "metadata": {
    "colab": {
      "provenance": [],
      "authorship_tag": "ABX9TyP9RnebkieuasZkWNg3GHEl",
      "include_colab_link": true
    },
    "kernelspec": {
      "name": "python3",
      "display_name": "Python 3"
    },
    "language_info": {
      "name": "python"
    }
  },
  "cells": [
    {
      "cell_type": "markdown",
      "metadata": {
        "id": "view-in-github",
        "colab_type": "text"
      },
      "source": [
        "<a href=\"https://colab.research.google.com/github/asih1725/STRUKTURDATA/blob/main/2410506011_Tugas_Strukdat_Array.ipynb\" target=\"_parent\"><img src=\"https://colab.research.google.com/assets/colab-badge.svg\" alt=\"Open In Colab\"/></a>"
      ]
    },
    {
      "cell_type": "markdown",
      "source": [
        "# Latihan 1"
      ],
      "metadata": {
        "id": "pnnDUAUn8wMk"
      }
    },
    {
      "cell_type": "code",
      "execution_count": 5,
      "metadata": {
        "colab": {
          "base_uri": "https://localhost:8080/"
        },
        "id": "WXZzVkqf8Wz2",
        "outputId": "f4d25de6-37cb-4066-f06c-2f7405962433"
      },
      "outputs": [
        {
          "output_type": "stream",
          "name": "stdout",
          "text": [
            "isi array NPM: [2410506011, 2410506012, 2410506013, 2410506014, 2410506015]\n"
          ]
        }
      ],
      "source": [
        "NPM = []\n",
        "\n",
        "#inisialisasi array dengan elemen\n",
        "NPM = [2410506011, 2410506012, 2410506013, 2410506014, 2410506015]\n",
        "\n",
        "#menampilkan isi array\n",
        "print(\"isi array NPM:\", NPM)"
      ]
    },
    {
      "cell_type": "markdown",
      "source": [
        "# Latihan 2"
      ],
      "metadata": {
        "id": "Sn4LlPn5845g"
      }
    },
    {
      "cell_type": "code",
      "source": [
        "angka.append(11)\n",
        "print(\"array setelah penambahan elemen:\", angka)\n",
        "angka.pop(0)\n",
        "print(\"array setelah penghapusan elemen:\", angka)"
      ],
      "metadata": {
        "colab": {
          "base_uri": "https://localhost:8080/"
        },
        "id": "5OQoc_mE9Jn1",
        "outputId": "d1846595-bdbb-4519-cfdf-b7417b9e69aa"
      },
      "execution_count": 7,
      "outputs": [
        {
          "output_type": "stream",
          "name": "stdout",
          "text": [
            "array setelah penambahan elemen: [11]\n",
            "array setelah penghapusan elemen: []\n"
          ]
        }
      ]
    },
    {
      "cell_type": "markdown",
      "source": [
        "# Latihan 3"
      ],
      "metadata": {
        "id": "rnT7NT6bNdPX"
      }
    },
    {
      "cell_type": "code",
      "source": [
        "fakultas = ['teknik', 'fisip', 'pertanian', 'ekonomi', 'fkip']\n",
        "for nilai in fakultas:\n",
        "  print(\"fakultas:\", nilai)"
      ],
      "metadata": {
        "colab": {
          "base_uri": "https://localhost:8080/"
        },
        "id": "_7lKbH63IL1h",
        "outputId": "fec01440-685d-4fba-82a0-c874f40e6c37"
      },
      "execution_count": 9,
      "outputs": [
        {
          "output_type": "stream",
          "name": "stdout",
          "text": [
            "fakultas: teknik\n",
            "fakultas: fisip\n",
            "fakultas: pertanian\n",
            "fakultas: ekonomi\n",
            "fakultas: fkip\n"
          ]
        }
      ]
    },
    {
      "cell_type": "markdown",
      "source": [
        "# Latihan 4"
      ],
      "metadata": {
        "id": "Ej9J6mvANhBQ"
      }
    },
    {
      "cell_type": "code",
      "source": [
        "angka = [1000, 2500, 35000, 4000]\n",
        "\n",
        "print(\"jumlah total:\", sum(angka))\n",
        "print(\"nilai maksimum:\", max(angka))\n",
        "print(\"nilai minimum:\", min(angka))"
      ],
      "metadata": {
        "colab": {
          "base_uri": "https://localhost:8080/"
        },
        "id": "1SY92kyyINQJ",
        "outputId": "24677d8a-beb4-418d-87b3-fdbc3ba16e17"
      },
      "execution_count": 10,
      "outputs": [
        {
          "output_type": "stream",
          "name": "stdout",
          "text": [
            "jumlah total: 42500\n",
            "nilai maksimum: 35000\n",
            "nilai minimum: 1000\n"
          ]
        }
      ]
    },
    {
      "cell_type": "markdown",
      "source": [
        "# Latihan 5"
      ],
      "metadata": {
        "id": "RcHczEgdNjfm"
      }
    },
    {
      "cell_type": "code",
      "source": [
        "# deklarasi array 2D\n",
        "matriks = [\n",
        "    [1, 2, 3, 10],\n",
        "    [4, 5, 6, 11],\n",
        "    [7, 8, 9, 12]\n",
        "\n",
        "]\n",
        "\n",
        "# menampilkan array 2D\n",
        "print(\"isi array 2D:\")\n",
        "for baris in matriks:\n",
        "  print(baris)"
      ],
      "metadata": {
        "colab": {
          "base_uri": "https://localhost:8080/"
        },
        "id": "iS3QESUiITeF",
        "outputId": "566a34f6-ec04-48e2-e382-71f9931bacee"
      },
      "execution_count": 11,
      "outputs": [
        {
          "output_type": "stream",
          "name": "stdout",
          "text": [
            "isi array 2D:\n",
            "[1, 2, 3, 10]\n",
            "[4, 5, 6, 11]\n",
            "[7, 8, 9, 12]\n"
          ]
        }
      ]
    },
    {
      "cell_type": "markdown",
      "source": [
        "# Latihan 6"
      ],
      "metadata": {
        "id": "q8akUQWhNm1Y"
      }
    },
    {
      "cell_type": "code",
      "source": [
        "# mengakses elemen pada baris ke-2, kolom ke-4 (indeks [0] [1])\n",
        "print(\"elemen baris ke-2, kolom ke-4:\", matriks[1][3])"
      ],
      "metadata": {
        "colab": {
          "base_uri": "https://localhost:8080/"
        },
        "id": "TeLk1sJ6IZN6",
        "outputId": "4d90a4ad-071c-49a9-8384-ed368434a6df"
      },
      "execution_count": 12,
      "outputs": [
        {
          "output_type": "stream",
          "name": "stdout",
          "text": [
            "elemen baris ke-2, kolom ke-4: 11\n"
          ]
        }
      ]
    },
    {
      "cell_type": "markdown",
      "source": [
        "# Latihan 7"
      ],
      "metadata": {
        "id": "c7lgtLteNprT"
      }
    },
    {
      "cell_type": "code",
      "source": [
        "matriks.append([17, 6, 20, 6])\n",
        "print(\"array setelah ditambahkan baris baru:\", matriks)"
      ],
      "metadata": {
        "colab": {
          "base_uri": "https://localhost:8080/"
        },
        "id": "n9wp3MQUIfTJ",
        "outputId": "a3e51e09-d81a-45b8-af06-e0ee0dd9eb2c"
      },
      "execution_count": 13,
      "outputs": [
        {
          "output_type": "stream",
          "name": "stdout",
          "text": [
            "array setelah ditambahkan baris baru: [[1, 2, 3, 10], [4, 5, 6, 11], [7, 8, 9, 12], [17, 6, 20, 6]]\n"
          ]
        }
      ]
    },
    {
      "cell_type": "markdown",
      "source": [
        "# Latihan 8"
      ],
      "metadata": {
        "id": "YORAAMMfNsIT"
      }
    },
    {
      "cell_type": "code",
      "source": [
        "# menghapus elemen ke-3\n",
        "matriks[2].remove(12)\n",
        "print(\"array setelah menghapus elemen 3 dari baris terakhir:\", matriks)"
      ],
      "metadata": {
        "colab": {
          "base_uri": "https://localhost:8080/"
        },
        "id": "gSduUzKBIwjp",
        "outputId": "2407ad47-d6e2-4b3a-e19e-e957eb2cfe58"
      },
      "execution_count": 15,
      "outputs": [
        {
          "output_type": "stream",
          "name": "stdout",
          "text": [
            "array setelah menghapus elemen 3 dari baris terakhir: [[1, 2, 3, 10], [4, 5, 6, 11], [7, 8, 9], [17, 6, 20, 6]]\n"
          ]
        }
      ]
    },
    {
      "cell_type": "markdown",
      "source": [
        "# Latihan 9"
      ],
      "metadata": {
        "id": "Nk99HB3vNw91"
      }
    },
    {
      "cell_type": "code",
      "source": [
        "matriks[-1] = [18, 2, 20, 25]\n",
        "print(\"Array setelah mengubah elemen baris terakhir:\", matriks)"
      ],
      "metadata": {
        "colab": {
          "base_uri": "https://localhost:8080/"
        },
        "id": "ij58e7KuJzcw",
        "outputId": "af642c57-bbb5-44e2-9842-f91a40681a97"
      },
      "execution_count": 16,
      "outputs": [
        {
          "output_type": "stream",
          "name": "stdout",
          "text": [
            "Array setelah mengubah elemen baris terakhir: [[1, 2, 3, 10], [4, 5, 6, 11], [7, 8, 9], [18, 2, 20, 25]]\n"
          ]
        }
      ]
    },
    {
      "cell_type": "markdown",
      "source": [
        "# Latihan 10"
      ],
      "metadata": {
        "id": "_qOoXW9bNzSO"
      }
    },
    {
      "cell_type": "code",
      "source": [
        "belanja= [\"teh\", \"bakso\", \"Minyak\", \"Ikan\", \"bawang\"]\n",
        "belanja.insert(2, \"bayam\")\n",
        "belanja.append(\"buah\")\n",
        "belanja.remove(\"bawang\")\n",
        "print(\"Daftar belanja terbaru:\", belanja)"
      ],
      "metadata": {
        "colab": {
          "base_uri": "https://localhost:8080/"
        },
        "id": "mRRWchDKK45f",
        "outputId": "eeae0b0c-8d9a-466d-ccb2-2113b29f3255"
      },
      "execution_count": 17,
      "outputs": [
        {
          "output_type": "stream",
          "name": "stdout",
          "text": [
            "Daftar belanja terbaru: ['teh', 'bakso', 'bayam', 'Minyak', 'Ikan', 'buah']\n"
          ]
        }
      ]
    },
    {
      "cell_type": "markdown",
      "source": [
        "# **TUGAS**"
      ],
      "metadata": {
        "id": "14epJe9nN6Qx"
      }
    },
    {
      "cell_type": "code",
      "source": [
        "import random\n",
        "\n",
        "# Input ukuran peta dari pengguna\n",
        "size = int(input(\"Masukkan ukuran peta yang diinginkan: \"))\n",
        "\n",
        "# Membuat peta dengan harta karun tersembunyi\n",
        "treasure_map = [\"_\" for _ in range(size)]\n",
        "\n",
        "# Menentukan lokasi harta karun secara acak\n",
        "treasure_index = random.randint(0, size - 1)\n",
        "treasure_map[treasure_index] = \"X\"  # Menyembunyikan harta karun di lokasi yang dipilih\n",
        "\n",
        "print(f\"\\nSelamat datang di Treasure Hunt! Peta memiliki {size} lokasi (0 hingga {size-1}).\")\n",
        "\n",
        "# Fungsi untuk memulai permainan\n",
        "def play_treasure_hunt():\n",
        "    print(\"\\nHarta karun telah disembunyikan! Sekarang giliran pemain menebak.\")\n",
        "    print(\"Cobalah menemukan harta karun dengan menebak indeks yang benar.\")\n",
        "\n",
        "    # Loop permainan\n",
        "    while True:\n",
        "        # Menampilkan peta tersembunyi kepada pemain\n",
        "        print(\"\\nPeta saat ini:\", [\"_\" for _ in range(size)])\n",
        "\n",
        "        try:\n",
        "            guess = int(input(f\"Masukkan indeks tebakanmu (0-{size-1}): \"))  # peta tersembunyi\n",
        "        except ValueError:\n",
        "            print(\"Masukkan angka yang valid!\")\n",
        "            continue\n",
        "\n",
        "        # Validasi input\n",
        "        if guess < 0 or guess >= size:\n",
        "            print(f\"Indeks tidak valid, pilih antara 0 hingga {size-1}.\")\n",
        "            continue\n",
        "\n",
        "        # Mengecek apakah tebakan benar\n",
        "        if treasure_map[guess] == \"X\":\n",
        "            print(f\"🎉 Selamat! Kamu menemukan harta karun di lokasi: {guess} 🎉\")\n",
        "            break\n",
        "        else:\n",
        "            print(\"❌ Tidak ada harta di lokasi ini. Coba lagi!\")\n",
        "\n",
        "    print(\"Terima kasih sudah bermain!\")\n",
        "\n",
        "# Jalankan permainan\n",
        "play_treasure_hunt()"
      ],
      "metadata": {
        "colab": {
          "base_uri": "https://localhost:8080/"
        },
        "id": "FCxqSHqROE6s",
        "outputId": "9610f84a-a089-4a3b-efd2-dce647172109"
      },
      "execution_count": 18,
      "outputs": [
        {
          "output_type": "stream",
          "name": "stdout",
          "text": [
            "Masukkan ukuran peta yang diinginkan: 12\n",
            "\n",
            "Selamat datang di Treasure Hunt! Peta memiliki 12 lokasi (0 hingga 11).\n",
            "\n",
            "Harta karun telah disembunyikan! Sekarang giliran pemain menebak.\n",
            "Cobalah menemukan harta karun dengan menebak indeks yang benar.\n",
            "\n",
            "Peta saat ini: ['_', '_', '_', '_', '_', '_', '_', '_', '_', '_', '_', '_']\n",
            "Masukkan indeks tebakanmu (0-11): 3\n",
            "❌ Tidak ada harta di lokasi ini. Coba lagi!\n",
            "\n",
            "Peta saat ini: ['_', '_', '_', '_', '_', '_', '_', '_', '_', '_', '_', '_']\n",
            "Masukkan indeks tebakanmu (0-11): 7\n",
            "❌ Tidak ada harta di lokasi ini. Coba lagi!\n",
            "\n",
            "Peta saat ini: ['_', '_', '_', '_', '_', '_', '_', '_', '_', '_', '_', '_']\n",
            "Masukkan indeks tebakanmu (0-11): 8\n",
            "❌ Tidak ada harta di lokasi ini. Coba lagi!\n",
            "\n",
            "Peta saat ini: ['_', '_', '_', '_', '_', '_', '_', '_', '_', '_', '_', '_']\n",
            "Masukkan indeks tebakanmu (0-11): 9\n",
            "❌ Tidak ada harta di lokasi ini. Coba lagi!\n",
            "\n",
            "Peta saat ini: ['_', '_', '_', '_', '_', '_', '_', '_', '_', '_', '_', '_']\n",
            "Masukkan indeks tebakanmu (0-11): 1\n",
            "❌ Tidak ada harta di lokasi ini. Coba lagi!\n",
            "\n",
            "Peta saat ini: ['_', '_', '_', '_', '_', '_', '_', '_', '_', '_', '_', '_']\n",
            "Masukkan indeks tebakanmu (0-11): 3\n",
            "❌ Tidak ada harta di lokasi ini. Coba lagi!\n",
            "\n",
            "Peta saat ini: ['_', '_', '_', '_', '_', '_', '_', '_', '_', '_', '_', '_']\n",
            "Masukkan indeks tebakanmu (0-11): 2\n",
            "🎉 Selamat! Kamu menemukan harta karun di lokasi: 2 🎉\n",
            "Terima kasih sudah bermain!\n"
          ]
        }
      ]
    }
  ]
}