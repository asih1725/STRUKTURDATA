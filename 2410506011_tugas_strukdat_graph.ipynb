{
  "nbformat": 4,
  "nbformat_minor": 0,
  "metadata": {
    "colab": {
      "provenance": [],
      "authorship_tag": "ABX9TyPi5wNdSuC0njP9014H0EAf",
      "include_colab_link": true
    },
    "kernelspec": {
      "name": "python3",
      "display_name": "Python 3"
    },
    "language_info": {
      "name": "python"
    }
  },
  "cells": [
    {
      "cell_type": "markdown",
      "metadata": {
        "id": "view-in-github",
        "colab_type": "text"
      },
      "source": [
        "<a href=\"https://colab.research.google.com/github/asih1725/STRUKTURDATA/blob/main/2410506011_tugas_strukdat_graph.ipynb\" target=\"_parent\"><img src=\"https://colab.research.google.com/assets/colab-badge.svg\" alt=\"Open In Colab\"/></a>"
      ]
    },
    {
      "cell_type": "code",
      "source": [
        "from collections import deque\n",
        "\n",
        "graph = {\n",
        "    'A': ['B', 'C', 'D'],\n",
        "    'B': ['A', 'E'],\n",
        "    'C': ['A', 'D'],\n",
        "    'D': ['A', 'C', 'E'],\n",
        "    'E': ['B', 'D']\n",
        "}\n",
        "\n",
        "def print_graph(graph):\n",
        "    for node in graph:\n",
        "        print(f\"{node} -> {graph[node]}\")\n",
        "\n",
        "print(\"Graf:\")\n",
        "print_graph(graph)\n",
        "\n",
        "def bfs(graph, start):\n",
        "    visited = set()\n",
        "    queue = deque([start])\n",
        "    result = []\n",
        "\n",
        "    while queue:\n",
        "        vertex = queue.popleft()\n",
        "        if vertex not in visited:\n",
        "            result.append(vertex)\n",
        "            visited.add(vertex)\n",
        "            for neighbor in graph[vertex]:\n",
        "                if neighbor not in visited and neighbor not in queue:\n",
        "                    queue.append(neighbor)\n",
        "    return result\n",
        "\n",
        "def dfs(graph, start, visited=None, result=None):\n",
        "    if visited is None:\n",
        "        visited = set()\n",
        "    if result is None:\n",
        "        result = []\n",
        "\n",
        "    if start not in visited:\n",
        "        visited.add(start)\n",
        "        result.append(start)\n",
        "        for neighbor in graph[start]:\n",
        "            dfs(graph, neighbor, visited, result)\n",
        "    return result\n",
        "\n",
        "print(\"\\nHasil BFS dari simpul 'A':\", bfs(graph, 'A'))\n",
        "print(\"Hasil DFS dari simpul 'A':\", dfs(graph, 'A'))\n",
        "\n",
        "def find_path(graph, start, end, path=None, visited=None):\n",
        "    if visited is None:\n",
        "        visited = set()\n",
        "    if path is None:\n",
        "        path = [start]\n",
        "\n",
        "    visited.add(start)\n",
        "    if start == end:\n",
        "        return path\n",
        "\n",
        "    for neighbor in graph[start]:\n",
        "        if neighbor not in visited:\n",
        "            result = find_path(graph, neighbor, end, path + [neighbor], visited)\n",
        "            if result is not None:\n",
        "                return result\n",
        "    return None\n",
        "\n",
        "print(\"\\nJalur dari 'A' ke 'E':\", find_path(graph, 'A', 'E'))\n",
        "\n",
        "def is_connected(graph):\n",
        "    start = next(iter(graph))\n",
        "    visited = set()\n",
        "\n",
        "    def dfs_visit(node):\n",
        "        visited.add(node)\n",
        "        for neighbor in graph[node]:\n",
        "            if neighbor not in visited:\n",
        "                dfs_visit(neighbor)\n",
        "\n",
        "    dfs_visit(start)\n",
        "    return len(visited) == len(graph)\n",
        "print(\"\\nApakah graf connected?\", is_connected(graph))\n"
      ],
      "metadata": {
        "id": "T5zXECAo7aW5",
        "outputId": "c01d49b8-8275-442d-881d-d527fc212cb8",
        "colab": {
          "base_uri": "https://localhost:8080/"
        }
      },
      "execution_count": null,
      "outputs": [
        {
          "output_type": "stream",
          "name": "stdout",
          "text": [
            "Graf:\n",
            "A -> ['B', 'C', 'D']\n",
            "B -> ['A', 'E']\n",
            "C -> ['A', 'D']\n",
            "D -> ['A', 'C', 'E']\n",
            "E -> ['B', 'D']\n",
            "\n",
            "Hasil BFS dari simpul 'A': ['A', 'B', 'C', 'D', 'E']\n",
            "Hasil DFS dari simpul 'A': ['A', 'B', 'E', 'D', 'C']\n",
            "\n",
            "Jalur dari 'A' ke 'E': ['A', 'B', 'E']\n",
            "\n",
            "Apakah graf connected? True\n"
          ]
        }
      ]
    }
  ]
}