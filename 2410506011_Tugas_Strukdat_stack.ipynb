{
  "nbformat": 4,
  "nbformat_minor": 0,
  "metadata": {
    "colab": {
      "provenance": [],
      "authorship_tag": "ABX9TyNHN+LZvpmtqOvpp7LS1viw",
      "include_colab_link": true
    },
    "kernelspec": {
      "name": "python3",
      "display_name": "Python 3"
    },
    "language_info": {
      "name": "python"
    }
  },
  "cells": [
    {
      "cell_type": "markdown",
      "metadata": {
        "id": "view-in-github",
        "colab_type": "text"
      },
      "source": [
        "<a href=\"https://colab.research.google.com/github/asih1725/STRUKTURDATA/blob/main/2410506011_Tugas_Strukdat_stack.ipynb\" target=\"_parent\"><img src=\"https://colab.research.google.com/assets/colab-badge.svg\" alt=\"Open In Colab\"/></a>"
      ]
    },
    {
      "cell_type": "markdown",
      "source": [
        "# Tugas"
      ],
      "metadata": {
        "id": "tFs9HJvPuuii"
      }
    },
    {
      "cell_type": "code",
      "execution_count": 1,
      "metadata": {
        "colab": {
          "base_uri": "https://localhost:8080/"
        },
        "id": "ybJN9S78tqHM",
        "outputId": "4cb0ce5e-2ffb-43b9-ae5c-dc2400c66688"
      },
      "outputs": [
        {
          "output_type": "stream",
          "name": "stdout",
          "text": [
            "Memindahkan cakram 1 dari [3, 2] ke [1]\n",
            "Memindahkan cakram 2 dari [3] ke [2]\n",
            "Memindahkan cakram 1 dari [] ke [2, 1]\n",
            "Memindahkan cakram 3 dari [] ke [3]\n",
            "Memindahkan cakram 1 dari [2] ke [1]\n",
            "Memindahkan cakram 2 dari [] ke [3, 2]\n",
            "Memindahkan cakram 1 dari [] ke [3, 2, 1]\n",
            "\n",
            "Keadaan akhir tiang:\n",
            "A: []\n",
            "B: []\n",
            "C: [3, 2, 1]\n"
          ]
        }
      ],
      "source": [
        "class Stack:\n",
        "    def __init__(self):\n",
        "        self.stack = []\n",
        "\n",
        "    def push(self, item):\n",
        "        self.stack.append(item)\n",
        "\n",
        "    def pop(self):\n",
        "        return self.stack.pop() if not self.is_empty() else None\n",
        "\n",
        "    def peek(self):\n",
        "        return self.stack[-1] if not self.is_empty() else None\n",
        "\n",
        "    def is_empty(self):\n",
        "        return len(self.stack) == 0\n",
        "\n",
        "    def size(self):\n",
        "        return len(self.stack)\n",
        "\n",
        "    def __str__(self):\n",
        "        return str(self.stack)\n",
        "\n",
        "def move_disk(source, target):\n",
        "    disk = source.pop()\n",
        "    if disk is not None:\n",
        "        target.push(disk)\n",
        "        print(f\"Memindahkan cakram {disk} dari {source} ke {target}\")\n",
        "\n",
        "def hanoi(n, source, auxiliary, target, max_steps, steps=[0]):\n",
        "    if steps[0] >= max_steps:\n",
        "        return\n",
        "    if n > 0:\n",
        "        hanoi(n-1, source, target, auxiliary, max_steps, steps)\n",
        "        if steps[0] < max_steps:\n",
        "            move_disk(source, target)\n",
        "            steps[0] += 1\n",
        "        hanoi(n-1, auxiliary, source, target, max_steps, steps)\n",
        "\n",
        "# Konfigurasi awal\n",
        "n = 3  # Jumlah cakram minimal\n",
        "max_steps = 11  # Contoh batas langkah dari dua digit terakhir NPM\n",
        "\n",
        "tower_A = Stack()\n",
        "tower_B = Stack()\n",
        "tower_C = Stack()\n",
        "\n",
        "# Mengisi Tower A dengan cakram\n",
        "for i in range(n, 0, -1):\n",
        "    tower_A.push(i)\n",
        "\n",
        "# Menjalankan Tower of Hanoi\n",
        "hanoi(n, tower_A, tower_B, tower_C, max_steps)\n",
        "\n",
        "# Menampilkan hasil akhir\n",
        "print(\"\\nKeadaan akhir tiang:\")\n",
        "print(\"A:\", tower_A)\n",
        "print(\"B:\", tower_B)\n",
        "print(\"C:\", tower_C)\n"
      ]
    }
  ]
}