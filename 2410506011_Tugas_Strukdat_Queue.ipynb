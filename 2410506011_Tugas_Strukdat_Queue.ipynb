{
  "nbformat": 4,
  "nbformat_minor": 0,
  "metadata": {
    "colab": {
      "provenance": [],
      "authorship_tag": "ABX9TyOLezZQD5jqnD3DNepZTIvI",
      "include_colab_link": true
    },
    "kernelspec": {
      "name": "python3",
      "display_name": "Python 3"
    },
    "language_info": {
      "name": "python"
    }
  },
  "cells": [
    {
      "cell_type": "markdown",
      "metadata": {
        "id": "view-in-github",
        "colab_type": "text"
      },
      "source": [
        "<a href=\"https://colab.research.google.com/github/asih1725/STRUKTURDATA/blob/main/2410506011_Tugas_Strukdat_Queue.ipynb\" target=\"_parent\"><img src=\"https://colab.research.google.com/assets/colab-badge.svg\" alt=\"Open In Colab\"/></a>"
      ]
    },
    {
      "cell_type": "code",
      "source": [
        "# implementasi queue menggunakan list\n",
        "class QueueList:\n",
        "    def __init__(self):\n",
        "        self.queue = []\n",
        "    def enqueue(self, item):\n",
        "        self.queue.append(item)\n",
        "\n",
        "    def dequeue(self):\n",
        "        if not self.is_empty():\n",
        "            return self.queue.pop(0)\n",
        "        return None\n",
        "\n",
        "    def front(self):\n",
        "        return self.queue[0] if not self.is_empty() else None\n",
        "\n",
        "    def rear(self):\n",
        "        return self.queue[-1] if not self.is_empty() else None\n",
        "\n",
        "    def is_empty(self):\n",
        "        return len(self.queue) == 0\n",
        "\n",
        "    def size(self):\n",
        "        return len(self.queue)\n",
        "\n",
        "# Contoh penggunaan\n",
        "queue = QueueList()\n",
        "\n",
        "queue.enqueue(10)\n",
        "queue.enqueue(20)\n",
        "queue.enqueue(30)\n",
        "print(\"Queue setelah enqueue:\", queue.queue)\n",
        "\n",
        "print(\"Dequeued element:\", queue.dequeue())\n",
        "print(\"Front element:\", queue.front())\n",
        "print(\"Rear element:\", queue.rear())\n",
        "print(\"Queue size:\", queue.size())"
      ],
      "metadata": {
        "colab": {
          "base_uri": "https://localhost:8080/"
        },
        "id": "vNHy6fWuSH_A",
        "outputId": "d7b7f384-757a-490b-a833-65d5ba180fce"
      },
      "execution_count": null,
      "outputs": [
        {
          "output_type": "stream",
          "name": "stdout",
          "text": [
            "Queue setelah enqueue: [10, 20, 30]\n",
            "Dequeued element: 10\n",
            "Front element: 20\n",
            "Rear element: 30\n",
            "Queue size: 2\n"
          ]
        }
      ]
    },
    {
      "cell_type": "code",
      "source": [
        "from collections import deque\n",
        "\n",
        "# implementasi queue menggunakan deque\n",
        "class QueueDeque:\n",
        "    def __init__(self):\n",
        "        self.queue = deque()\n",
        "\n",
        "    def enqueue(self, item):\n",
        "        self.queue.append(item)\n",
        "\n",
        "    def dequeue(self):\n",
        "        return self.queue.popleft() if not self.is_empty() else None\n",
        "\n",
        "    def front(self):\n",
        "        return self.queue[0] if not self.is_empty() else None\n",
        "\n",
        "    def rear(self):\n",
        "        return self.queue[-1] if not self.is_empty() else None\n",
        "\n",
        "    def is_empty(self):\n",
        "        return len(self.queue) == 0\n",
        "\n",
        "    def size(self):\n",
        "        return len(self.queue)\n",
        "\n",
        "# contoh penggunaan\n",
        "queue = QueueDeque()\n",
        "queue.enqueue(10)\n",
        "queue.enqueue(20)\n",
        "queue.enqueue(30)\n",
        "print(\"Queue setelah enqueue:\",list(queue.queue))\n",
        "print(\"Dequeued element:\",queue.dequeue())\n",
        "print(\"Front element:\",queue.front())\n",
        "print(\"Rear element:\",queue.rear())\n",
        "print(\"Queue size:\",queue.size())"
      ],
      "metadata": {
        "colab": {
          "base_uri": "https://localhost:8080/"
        },
        "id": "4ymJJmAWTMQS",
        "outputId": "1f7ed407-183d-46dc-da5e-70f1040396ef"
      },
      "execution_count": null,
      "outputs": [
        {
          "output_type": "stream",
          "name": "stdout",
          "text": [
            "Queue setelah enqueue: [10, 20, 30]\n",
            "Dequeued element: 10\n",
            "Front element: 20\n",
            "Rear element: 30\n",
            "Queue size: 2\n"
          ]
        }
      ]
    },
    {
      "cell_type": "code",
      "source": [
        "from queue import Queue\n",
        "\n",
        "# implementasi queue menggunakan queue.queue\n",
        "queue = Queue()\n",
        "\n",
        "queue.put(10)\n",
        "queue.put(20)\n",
        "queue.put(30)\n",
        "print(\"Queue size:\", queue.qsize())\n",
        "\n",
        "print(\"Dequeued element:\", queue.get())\n",
        "print(\"Queue size setelah dequeue:\", queue.qsize)"
      ],
      "metadata": {
        "colab": {
          "base_uri": "https://localhost:8080/"
        },
        "id": "EaVqhB_OUqnA",
        "outputId": "58ef684c-d168-4178-ee3b-6f2041bcc09f"
      },
      "execution_count": null,
      "outputs": [
        {
          "output_type": "stream",
          "name": "stdout",
          "text": [
            "Queue size: 3\n",
            "Dequeued element: 10\n",
            "Queue size setelah dequeue: <bound method Queue.qsize of <queue.Queue object at 0x7f3d545136d0>>\n"
          ]
        }
      ]
    },
    {
      "cell_type": "code",
      "source": [
        "class Node:\n",
        "    def __init__(self, data):\n",
        "        self.data = data\n",
        "        self.next = None\n",
        "\n",
        "class QueueLinkedList:\n",
        "    def __init__(self):\n",
        "        self.front = self.rear = None\n",
        "\n",
        "    def enqueue(self, item):\n",
        "        new_node = Node(item)\n",
        "        if self.rear is None:\n",
        "            self.front = self.rear = new_node\n",
        "            return\n",
        "        self.rear.next = new_node\n",
        "        self.rear = new_node\n",
        "\n",
        "    def dequeue(self):\n",
        "        if self.front is None:\n",
        "            return None\n",
        "        dequeued_element = self.front.data\n",
        "        self.front = self.front.next\n",
        "        if self.front is None:\n",
        "            self.rear = None\n",
        "        return dequeued_element\n",
        "\n",
        "    def is_empty(self):\n",
        "        return self.front is None\n",
        "\n",
        "    def front_element(self):\n",
        "        return self.front.data if self.front else None\n",
        "\n",
        "    def rear_element(self):\n",
        "        return self.rear.data if self.rear else None\n",
        "\n",
        "# contoh penggunaan\n",
        "queue = QueueLinkedList()\n",
        "queue.enqueue(10)\n",
        "queue.enqueue(20)\n",
        "queue.enqueue(30)\n",
        "print(\"dequed element:\", queue.dequeue())\n",
        "print(\"front element:\", queue.front_element())\n",
        "print(\"rear element:\", queue.rear_element())"
      ],
      "metadata": {
        "colab": {
          "base_uri": "https://localhost:8080/"
        },
        "id": "KlIfm8nWVgep",
        "outputId": "1f62dcc8-beac-404b-a239-3d15e18ab503"
      },
      "execution_count": null,
      "outputs": [
        {
          "output_type": "stream",
          "name": "stdout",
          "text": [
            "dequed element: 10\n",
            "front element: 20\n",
            "rear element: 30\n"
          ]
        }
      ]
    },
    {
      "cell_type": "markdown",
      "source": [
        "# Latihan 1"
      ],
      "metadata": {
        "id": "EQVVJy4OYI8p"
      }
    },
    {
      "cell_type": "code",
      "source": [
        "class TicketQueue:\n",
        "    def __init__(self, capacity=10):\n",
        "        self.capacity = capacity\n",
        "        self.queue = []\n",
        "\n",
        "    def enqueue(self, ticket_id):\n",
        "        if len(self.queue) < self.capacity:\n",
        "            self.queue.append(ticket_id)\n",
        "            print(f\"Pelanggan ditambahkan ke antrian.\")\n",
        "        else:\n",
        "            print(\"Antrian penuh! Pelanggan harus menunggu slot kosong.\")\n",
        "\n",
        "    def dequeue(self):\n",
        "        if self.is_empty():\n",
        "            print(\"Antrian kosong! Tidak ada pelanggan untuk dilayani.\")\n",
        "        else:\n",
        "            served = self.queue.pop(0)\n",
        "            print(f\"Pelanggan telah dilayani.\")\n",
        "\n",
        "    def front(self):\n",
        "        if self.is_empty():\n",
        "            print(\"Antrian kosong!\")\n",
        "        else:\n",
        "            print(f\"Pelanggan pertama dalam antrian: {self.queue[0]}\")\n",
        "\n",
        "    def rear(self):\n",
        "        if self.is_empty():\n",
        "            print(\"Antrian kosong!\")\n",
        "        else:\n",
        "            print(f\"Pelanggan terakhir dalam antrian: {self.queue[-1]}\")\n",
        "\n",
        "    def is_empty(self):\n",
        "        return len(self.queue) == 0\n",
        "\n",
        "    def size(self):\n",
        "        return len(self.queue)\n",
        "\n",
        "    def vip_customer(self, ticket_id):\n",
        "        if '7' in ticket_id:\n",
        "            print(f\"Pelanggan VIP langsung mendapatkan kursi tanpa harus antre.\")\n",
        "        else:\n",
        "            self.enqueue(ticket_id)\n",
        "\n",
        "\n",
        "# Contoh Penggunaan\n",
        "queue = TicketQueue()\n",
        "\n",
        "# Menambahkan pelanggan ke antrian\n",
        "queue.enqueue(\"SE11\")\n",
        "queue.enqueue(\"CD34\")\n",
        "queue.enqueue(\"EF56\")\n",
        "queue.vip_customer(\"GH78\")\n",
        "queue.enqueue(\"IJ90\")\n",
        "\n",
        "# Menampilkan pelanggan pertama dan terakhir\n",
        "queue.front()\n",
        "queue.rear()\n",
        "\n",
        "# Melayani pelanggan pertama\n",
        "queue.dequeue()\n",
        "\n",
        "# Menampilkan ukuran antrian\n",
        "print(f\"Jumlah pelanggan dalam antrian: {queue.size()}\")"
      ],
      "metadata": {
        "colab": {
          "base_uri": "https://localhost:8080/"
        },
        "id": "HpP_iHveYLzA",
        "outputId": "2a16b896-79d9-4852-ef77-a9fd629bb5e5"
      },
      "execution_count": null,
      "outputs": [
        {
          "output_type": "stream",
          "name": "stdout",
          "text": [
            "Pelanggan ditambahkan ke antrian.\n",
            "Pelanggan ditambahkan ke antrian.\n",
            "Pelanggan ditambahkan ke antrian.\n",
            "Pelanggan VIP langsung mendapatkan kursi tanpa harus antre.\n",
            "Pelanggan ditambahkan ke antrian.\n",
            "Pelanggan pertama dalam antrian: SE11\n",
            "Pelanggan terakhir dalam antrian: IJ90\n",
            "Pelanggan telah dilayani.\n",
            "Jumlah pelanggan dalam antrian: 3\n"
          ]
        }
      ]
    },
    {
      "cell_type": "markdown",
      "source": [
        "# Latihan 2"
      ],
      "metadata": {
        "id": "vilJ4Cse13AM"
      }
    },
    {
      "cell_type": "code",
      "source": [
        "class PhotocopyQueue:\n",
        "    def __init__(self):\n",
        "        self.queue = []\n",
        "\n",
        "    def enqueue(self, name, npm, num_pages):\n",
        "        order_id = name[:3].upper() + npm[-2:]\n",
        "        if num_pages < 10:\n",
        "            print(f\"Pesanan {order_id} (Fast Track) langsung diproses tanpa antre.\")\n",
        "        else:\n",
        "            self.queue.append((order_id, num_pages))\n",
        "            print(f\"Pesanan {order_id} masuk dalam antrian fotokopi.\")\n",
        "\n",
        "    def dequeue(self):\n",
        "        if not self.is_empty():\n",
        "            order_id, num_pages = self.queue.pop(0)\n",
        "            if num_pages > 100:\n",
        "                remaining_pages = num_pages - 100\n",
        "                print(f\"Pesanan {order_id} diproses 100 halaman pertama, sisa {remaining_pages} halaman kembali ke antrian.\")\n",
        "                self.queue.append((order_id, remaining_pages))\n",
        "            else:\n",
        "                print(f\"Pesanan {order_id} telah selesai diproses.\")\n",
        "        else:\n",
        "            print(\"Antrian kosong!\")\n",
        "\n",
        "    def front(self):\n",
        "        return self.queue[0] if not self.is_empty() else \"Antrian kosong\"\n",
        "\n",
        "    def rear(self):\n",
        "        return self.queue[-1] if not self.is_empty() else \"Antrian kosong\"\n",
        "\n",
        "    def is_empty(self):\n",
        "        return len(self.queue) == 0\n",
        "\n",
        "    def size(self):\n",
        "        return len(self.queue)\n",
        "\n",
        "# Contoh penggunaan\n",
        "antrian_fotokopi = PhotocopyQueue()\n",
        "antrian_fotokopi.enqueue(\"set\", \"11\", 8)\n",
        "antrian_fotokopi.enqueue(\"ias\", \"011\", 120)\n",
        "antrian_fotokopi.enqueue(\"ihh\", \"0011\", 50)\n",
        "print(\"Pesanan pertama dalam antrian:\", antrian_fotokopi.front())\n",
        "print(\"Pesanan terakhir dalam antrian:\", antrian_fotokopi.rear())\n",
        "antrian_fotokopi.dequeue()\n",
        "print(\"Ukuran antrian saat ini:\", antrian_fotokopi.size())\n"
      ],
      "metadata": {
        "colab": {
          "base_uri": "https://localhost:8080/"
        },
        "id": "0pnNOUOI17Vl",
        "outputId": "ee1548a3-da24-48a8-bb22-db21becf2f55"
      },
      "execution_count": null,
      "outputs": [
        {
          "output_type": "stream",
          "name": "stdout",
          "text": [
            "Pesanan SET11 (Fast Track) langsung diproses tanpa antre.\n",
            "Pesanan IAS11 masuk dalam antrian fotokopi.\n",
            "Pesanan IHH11 masuk dalam antrian fotokopi.\n",
            "Pesanan pertama dalam antrian: ('IAS11', 120)\n",
            "Pesanan terakhir dalam antrian: ('IHH11', 50)\n",
            "Pesanan IAS11 diproses 100 halaman pertama, sisa 20 halaman kembali ke antrian.\n",
            "Ukuran antrian saat ini: 2\n"
          ]
        }
      ]
    },
    {
      "cell_type": "markdown",
      "source": [
        "# Latihan 3"
      ],
      "metadata": {
        "id": "xcV1qZJbfIkR"
      }
    },
    {
      "cell_type": "code",
      "source": [
        "class ParkingQueue:\n",
        "    def __init__(self, capacity=15):\n",
        "        self.queue = []\n",
        "        self.capacity = capacity\n",
        "\n",
        "    def enqueue(self, vehicle_number):\n",
        "        if len(self.queue) < self.capacity:\n",
        "            self.queue.append(vehicle_number)\n",
        "            print(f\"Kendaraan {vehicle_number} masuk parkiran.\")\n",
        "        else:\n",
        "            print(\"Parkiran penuh! Kendaraan harus menunggu.\")\n",
        "\n",
        "    def dequeue(self):\n",
        "        if self.is_empty():\n",
        "            print(\"Parkiran kosong!\")\n",
        "        else:\n",
        "            removed_vehicle = self.queue.pop(0)\n",
        "            print(f\"Kendaraan {removed_vehicle} keluar dari parkiran.\")\n",
        "\n",
        "    def front(self):\n",
        "        return self.queue[0] if not self.is_empty() else \"Parkiran kosong\"\n",
        "\n",
        "    def rear(self):\n",
        "        return self.queue[-1] if not self.is_empty() else \"Parkiran kosong\"\n",
        "\n",
        "    def is_empty(self):\n",
        "        return len(self.queue) == 0\n",
        "\n",
        "    def size(self):\n",
        "        return len(self.queue)\n",
        "\n",
        "    def priority_parking(self, vehicle_number, is_priority=False):\n",
        "        if is_priority:\n",
        "            if len(self.queue) < self.capacity:\n",
        "                self.queue.insert(0, vehicle_number)\n",
        "                print(f\"Kendaraan prioritas {vehicle_number} masuk lebih dulu.\")\n",
        "            else:\n",
        "                print(\"Parkiran penuh! Kendaraan harus menunggu.\")\n",
        "        else:\n",
        "            self.enqueue(vehicle_number)\n",
        "\n",
        "# Contoh penggunaan\n",
        "parkiran = ParkingQueue()\n",
        "parkiran.enqueue(\"BO11\")\n",
        "parkiran.enqueue(\"B011\")\n",
        "parkiran.priority_parking(\"SB99\", is_priority=True)\n",
        "print(\"Kendaraan pertama:\", parkiran.front())\n",
        "print(\"Kendaraan terakhir:\", parkiran.rear())\n",
        "parkiran.dequeue()\n",
        "print(\"Ukuran antrian:\", parkiran.size())\n"
      ],
      "metadata": {
        "id": "euMoqKuufLeB",
        "colab": {
          "base_uri": "https://localhost:8080/"
        },
        "outputId": "67247510-a9c6-4f37-db14-317c93620dd5"
      },
      "execution_count": null,
      "outputs": [
        {
          "output_type": "stream",
          "name": "stdout",
          "text": [
            "Kendaraan BO11 masuk parkiran.\n",
            "Kendaraan B011 masuk parkiran.\n",
            "Kendaraan prioritas SB99 masuk lebih dulu.\n",
            "Kendaraan pertama: SB99\n",
            "Kendaraan terakhir: B011\n",
            "Kendaraan SB99 keluar dari parkiran.\n",
            "Ukuran antrian: 2\n"
          ]
        }
      ]
    },
    {
      "cell_type": "markdown",
      "source": [
        "# Latihan 4"
      ],
      "metadata": {
        "id": "jyhq47hM0WHg"
      }
    },
    {
      "cell_type": "code",
      "source": [
        "class CertificateQueue:\n",
        "    def __init__(self, capacity=20):\n",
        "        self.regular_queue = []\n",
        "        self.achiever_queue = []\n",
        "        self.capacity = capacity\n",
        "\n",
        "    def enqueue(self, student_id, is_high_achiever=False):\n",
        "        if is_high_achiever:\n",
        "            print(f\"Mahasiswa {student_id} langsung mengambil sertifikat tanpa antre.\")\n",
        "            return\n",
        "\n",
        "        if len(self.regular_queue) < self.capacity:\n",
        "            self.regular_queue.append(student_id)\n",
        "            print(f\"Mahasiswa {student_id} masuk dalam antrian reguler.\")\n",
        "        else:\n",
        "            print(f\"Antrian reguler penuh! Mahasiswa {student_id} masuk ke jalur mahasiswa berprestasi.\")\n",
        "            self.achiever_queue.append(student_id)\n",
        "\n",
        "    def dequeue(self):\n",
        "        if not self.is_empty():\n",
        "            if self.achiever_queue:\n",
        "                removed_student = self.achiever_queue.pop(0)\n",
        "                print(f\"Mahasiswa {removed_student} dari jalur berprestasi mengambil sertifikat.\")\n",
        "            else:\n",
        "                removed_student = self.regular_queue.pop(0)\n",
        "                print(f\"Mahasiswa {removed_student} mengambil sertifikat.\")\n",
        "        else:\n",
        "            print(\"Antrian kosong!\")\n",
        "\n",
        "    def front(self):\n",
        "        if self.achiever_queue:\n",
        "            return self.achiever_queue[0]\n",
        "        return self.regular_queue[0] if not self.is_empty() else \"Antrian kosong\"\n",
        "\n",
        "    def rear(self):\n",
        "        if self.regular_queue:\n",
        "            return self.regular_queue[-1]\n",
        "        return self.achiever_queue[-1] if self.achiever_queue else \"Antrian kosong\"\n",
        "\n",
        "    def is_empty(self):\n",
        "        return len(self.regular_queue) == 0 and len(self.achiever_queue) == 0\n",
        "\n",
        "    def size(self):\n",
        "        return len(self.regular_queue) + len(self.achiever_queue)\n",
        "\n",
        "# Contoh penggunaan\n",
        "antrian = CertificateQueue()\n",
        "antrian.enqueue(\"TE11\")\n",
        "antrian.enqueue(\"TI11\")\n",
        "antrian.enqueue(\"TF11\", is_high_achiever=True)\n",
        "print(\"Mahasiswa pertama dalam antrian:\", antrian.front())\n",
        "print(\"Mahasiswa terakhir dalam antrian:\", antrian.rear())\n",
        "antrian.dequeue()\n",
        "print(\"Ukuran antrian:\", antrian.size())\n"
      ],
      "metadata": {
        "colab": {
          "base_uri": "https://localhost:8080/"
        },
        "id": "nHY2X00W0b4T",
        "outputId": "81a96875-5221-4821-b0c0-bed03c4a274d"
      },
      "execution_count": null,
      "outputs": [
        {
          "output_type": "stream",
          "name": "stdout",
          "text": [
            "Mahasiswa TE11 masuk dalam antrian reguler.\n",
            "Mahasiswa TI11 masuk dalam antrian reguler.\n",
            "Mahasiswa TF11 langsung mengambil sertifikat tanpa antre.\n",
            "Mahasiswa pertama dalam antrian: TE11\n",
            "Mahasiswa terakhir dalam antrian: TI11\n",
            "Mahasiswa TE11 mengambil sertifikat.\n",
            "Ukuran antrian: 1\n"
          ]
        }
      ]
    }
  ]
}