{
  "nbformat": 4,
  "nbformat_minor": 0,
  "metadata": {
    "colab": {
      "provenance": [],
      "authorship_tag": "ABX9TyPcHdhfXN5hNwik0zuYDLDw",
      "include_colab_link": true
    },
    "kernelspec": {
      "name": "python3",
      "display_name": "Python 3"
    },
    "language_info": {
      "name": "python"
    }
  },
  "cells": [
    {
      "cell_type": "markdown",
      "metadata": {
        "id": "view-in-github",
        "colab_type": "text"
      },
      "source": [
        "<a href=\"https://colab.research.google.com/github/asih1725/STRUKTURDATA/blob/main/2410506011_Strukdat_stack.ipynb\" target=\"_parent\"><img src=\"https://colab.research.google.com/assets/colab-badge.svg\" alt=\"Open In Colab\"/></a>"
      ]
    },
    {
      "cell_type": "code",
      "source": [
        "class stack:\n",
        "    def __init__(self):\n",
        "        self.stack = []\n",
        "\n",
        "    def push(self, item):\n",
        "        self.stack.append(item)\n",
        "\n",
        "#contoh penggunaan\n",
        "s = stack()\n",
        "s.push(5)\n",
        "print(s.stack) #output: [5]"
      ],
      "metadata": {
        "colab": {
          "base_uri": "https://localhost:8080/"
        },
        "id": "M9m5_hRBa0J_",
        "outputId": "567da3bb-a145-4d8f-e38a-8bde92fec49a"
      },
      "execution_count": 3,
      "outputs": [
        {
          "output_type": "stream",
          "name": "stdout",
          "text": [
            "[5]\n"
          ]
        }
      ]
    },
    {
      "cell_type": "code",
      "source": [
        "class stack:\n",
        "  def __init__(self):\n",
        "    self.stack =[]\n",
        "class stack:\n",
        "  def __init__(self):\n",
        "    self.stack =[]\n",
        "\n",
        "  def pop(self):\n",
        "    if len(self.stack) == 0:\n",
        "      return \"Stack kosong\"\n",
        "    return self.stack.pop()\n",
        "\n",
        "  def push(self, item):\n",
        "    self.stack.append(item)\n",
        "\n",
        "#contoh penggunaan\n",
        "s = stack()\n",
        "s.push(5)\n",
        "s.push(10)\n",
        "print(s.pop()) #output: 10\n",
        "print(s.stack) #output: [5]\n",
        "\n"
      ],
      "metadata": {
        "colab": {
          "base_uri": "https://localhost:8080/"
        },
        "id": "c3pLC64HbULP",
        "outputId": "5f123f81-539a-49b6-d190-59d5467a05a5"
      },
      "execution_count": 5,
      "outputs": [
        {
          "output_type": "stream",
          "name": "stdout",
          "text": [
            "10\n",
            "[5]\n"
          ]
        }
      ]
    },
    {
      "cell_type": "code",
      "source": [
        "class stack:\n",
        "  def __init__(self):\n",
        "    self.stack =[]\n",
        "\n",
        "  def peek(self):\n",
        "    if len(self.stack) == 0:\n",
        "      return \"Stack kosong\"\n",
        "    return self.stack[-1]\n",
        "\n",
        "  def push(self, item):\n",
        "    self.stack.append(item)\n",
        "\n",
        "#contoh penggunaan\n",
        "s = stack()\n",
        "s.push(5)\n",
        "s.push(10)\n",
        "print(s.peek()) #output: 10\n",
        "print(s.stack) #output: [5, 10]"
      ],
      "metadata": {
        "colab": {
          "base_uri": "https://localhost:8080/"
        },
        "id": "AwCt692JcunY",
        "outputId": "52daa63a-e2cf-4a42-d505-19e7ce79da80"
      },
      "execution_count": 7,
      "outputs": [
        {
          "output_type": "stream",
          "name": "stdout",
          "text": [
            "10\n",
            "[5, 10]\n"
          ]
        }
      ]
    },
    {
      "cell_type": "code",
      "source": [
        "class stack:\n",
        "  def __init__(self):\n",
        "    self.stack =[]\n",
        "\n",
        "  def is_empty(self):\n",
        "    return len(self.stack) == 0\n",
        "\n",
        "  def push(self, item):\n",
        "    self.stack.append(item)\n",
        "\n",
        "#contoh prnggunaan\n",
        "s = stack()\n",
        "print(s.is_empty()) #output: True\n",
        "s.push(5)\n",
        "print(s.is_empty()) #output: False"
      ],
      "metadata": {
        "colab": {
          "base_uri": "https://localhost:8080/"
        },
        "id": "aKfhJkQ-dsMM",
        "outputId": "2384b2d9-544f-468f-c41f-8abcc832a9cc"
      },
      "execution_count": 9,
      "outputs": [
        {
          "output_type": "stream",
          "name": "stdout",
          "text": [
            "True\n",
            "False\n"
          ]
        }
      ]
    },
    {
      "cell_type": "code",
      "source": [
        "class TextEditor:\n",
        "  def __init__(self):\n",
        "    self.history = []\n",
        "\n",
        "  def write(self, text):\n",
        "    self.history.append(text)\n",
        "\n",
        "class TextEditor:\n",
        "  def __init__(self):\n",
        "    self.history = []\n",
        "\n",
        "  def write(self, text):\n",
        "    self.history.append(text)\n",
        "\n",
        "  def undo(self):\n",
        "    if self.history:\n",
        "      return f\"undo: menghapus '{self.history.pop()}'\"\n",
        "    return \"tidak bisa ada yang di-undo\"\n",
        "\n",
        "#contoh penggunaan\n",
        "editor = TextEditor()\n",
        "editor.write(\"halo, ini teks pertama.\")\n",
        "editor.write(\"ini teks kedua.\")\n",
        "editor.write(\"ini teks ketiga.\")\n",
        "\n",
        "print(editor.undo())\n",
        "print(editor.undo())\n",
        ""
      ],
      "metadata": {
        "colab": {
          "base_uri": "https://localhost:8080/"
        },
        "id": "XXXbFJpNeVJA",
        "outputId": "1d9e6237-b098-4eea-f26a-40210dce5647"
      },
      "execution_count": 11,
      "outputs": [
        {
          "output_type": "stream",
          "name": "stdout",
          "text": [
            "undo: menghapus 'ini teks ketiga.'\n",
            "undo: menghapus 'ini teks kedua.'\n"
          ]
        }
      ]
    },
    {
      "cell_type": "markdown",
      "source": [
        "# Latihan 1"
      ],
      "metadata": {
        "id": "gpbxvLfZhhPQ"
      }
    },
    {
      "cell_type": "code",
      "source": [
        "class Calculator:\n",
        "    def __init__(self, value):\n",
        "        self.value = value\n",
        "        self.history = []\n",
        "\n",
        "    def operate(self, operator, number):\n",
        "        self.history.append(self.value)\n",
        "        if operator == '+':\n",
        "            self.value += number\n",
        "        elif operator == '-':\n",
        "            self.value -= number\n",
        "        elif operator == '*':\n",
        "            self.value *= number\n",
        "        elif operator == '/' and number != 0:\n",
        "            self.value /= number\n",
        "        else:\n",
        "            print(\"Operasi tidak valid\")\n",
        "\n",
        "    def undo(self):\n",
        "        if self.history:\n",
        "            self.value = self.history.pop()\n",
        "        else:\n",
        "            print(\"Tidak ada operasi yang bisa di-undo.\")\n",
        "\n",
        "    def get_value(self):\n",
        "        return self.value\n",
        "\n",
        "# Contoh penggunaan\n",
        "kalkulator = Calculator(11)\n",
        "kalkulator.operate('+', 10)\n",
        "kalkulator.operate('*', 12)\n",
        "kalkulator.operate('-', 13)\n",
        "print(\"Hasil:\", kalkulator.get_value())\n",
        "kalkulator.undo()\n",
        "print(\"Undo 1:\", kalkulator.get_value())\n",
        "kalkulator.undo()\n",
        "print(\"Undo 2:\", kalkulator.get_value())\n",
        "kalkulator.undo()\n",
        "print(\"Undo 3:\", kalkulator.get_value())\n",
        "kalkulator.undo()\n",
        "print(\"Undo 4:\", kalkulator.get_value())"
      ],
      "metadata": {
        "colab": {
          "base_uri": "https://localhost:8080/"
        },
        "id": "WPSgzIBSgMg7",
        "outputId": "6564eb62-1d7a-4d53-bdd2-1a1def8294db"
      },
      "execution_count": 12,
      "outputs": [
        {
          "output_type": "stream",
          "name": "stdout",
          "text": [
            "Hasil: 239\n",
            "Undo 1: 252\n",
            "Undo 2: 21\n",
            "Undo 3: 11\n",
            "Tidak ada operasi yang bisa di-undo.\n",
            "Undo 4: 11\n"
          ]
        }
      ]
    },
    {
      "cell_type": "code",
      "source": [
        "from collections import deque\n",
        "\n",
        "class BrowserHistory:\n",
        "  def __init__(self):\n",
        "    self.history = deque()\n",
        "\n",
        "  def visit(self, url):\n",
        "    self.history.append(url)\n",
        "    print(f\"menguji: [url]\")\n",
        "\n",
        "  def back(self):\n",
        "    if self.history:\n",
        "      print(f\"kembali ke: (self.history.pop())\")\n",
        "    else:\n",
        "      print(\"tidak ada riwayat\")\n",
        "\n",
        "#contoh penggunaan\n",
        "browser = BrowserHistory()\n",
        "browser.visit(\"google.com\")\n",
        "browser.visit(\"facebook.com\")\n",
        "browser.visit(\"youtube.com\")\n",
        "\n",
        "browser.back()\n",
        "browser.back()"
      ],
      "metadata": {
        "colab": {
          "base_uri": "https://localhost:8080/"
        },
        "id": "Y9-4PTGTh0J-",
        "outputId": "52710c1c-4667-4fdc-a6e8-9eff142ca647"
      },
      "execution_count": 15,
      "outputs": [
        {
          "output_type": "stream",
          "name": "stdout",
          "text": [
            "menguji: [url]\n",
            "menguji: [url]\n",
            "menguji: [url]\n",
            "kembali ke: (self.history.pop())\n",
            "kembali ke: (self.history.pop())\n"
          ]
        }
      ]
    },
    {
      "cell_type": "markdown",
      "source": [
        "# Latihan 2"
      ],
      "metadata": {
        "id": "VEG9VsQvkwVY"
      }
    },
    {
      "cell_type": "code",
      "source": [
        "from collections import deque\n",
        "\n",
        "class MobileAppHistory:\n",
        "    def __init__(self):\n",
        "        self.history = deque()\n",
        "\n",
        "    def visit(self, feature):\n",
        "        self.history.append(feature)\n",
        "        print(f\"Mengunjungi: {feature}\")\n",
        "\n",
        "    def back(self):\n",
        "        if self.history:\n",
        "            self.history.pop()\n",
        "            print(f\"Kembali ke: {self.history[-1] if self.history else 'Tidak ada riwayat!'}\")\n",
        "        else:\n",
        "            print(\"Tidak ada riwayat!\")\n",
        "\n",
        "# Inisialisasi nama fitur\n",
        "bulan = \"J\"  # J untuk Juni\n",
        "npm = \"11\"\n",
        "\n",
        "# Contoh Penggunaan\n",
        "app = MobileAppHistory()\n",
        "for i in range(1, 4):\n",
        "    app.visit(f\"{bulan}{npm}-{i}\")\n",
        "\n",
        "app.back()\n",
        "app.back()\n",
        "app.back()"
      ],
      "metadata": {
        "colab": {
          "base_uri": "https://localhost:8080/"
        },
        "id": "E8xMwR17jqHB",
        "outputId": "2c2da379-26e4-4ab4-8b5f-ff3c6b0c515e"
      },
      "execution_count": 17,
      "outputs": [
        {
          "output_type": "stream",
          "name": "stdout",
          "text": [
            "Mengunjungi: J11-1\n",
            "Mengunjungi: J11-2\n",
            "Mengunjungi: J11-3\n",
            "Kembali ke: J11-2\n",
            "Kembali ke: J11-1\n",
            "Kembali ke: Tidak ada riwayat!\n"
          ]
        }
      ]
    },
    {
      "cell_type": "code",
      "source": [
        "from queue import LifoQueue\n",
        "\n",
        "class BackupSystem:\n",
        "    def __init__(self):\n",
        "        self.backups = LifoQueue()\n",
        "\n",
        "    def backup(self, version):\n",
        "        self.backups.put(version)\n",
        "\n",
        "    def latest_backup(self):\n",
        "        if not self.backups.empty():\n",
        "            return f\"Versi terbaru: {self.backups.queue[-1]}\"\n",
        "        return \"Tidak ada cadangan!\"\n",
        "\n",
        "# Contoh Penggunaan\n",
        "backup_system = BackupSystem()\n",
        "backup_system.backup(\"Backup_1\")\n",
        "backup_system.backup(\"Backup_2\")\n",
        "backup_system.backup(\"Backup_3\")\n",
        "\n",
        "print(backup_system.latest_backup())"
      ],
      "metadata": {
        "colab": {
          "base_uri": "https://localhost:8080/"
        },
        "id": "PzeRLsCPk0te",
        "outputId": "207377ee-227a-4e24-bbb8-b344ca41f168"
      },
      "execution_count": 18,
      "outputs": [
        {
          "output_type": "stream",
          "name": "stdout",
          "text": [
            "Versi terbaru: Backup_3\n"
          ]
        }
      ]
    },
    {
      "cell_type": "markdown",
      "source": [
        "# Latihan 3"
      ],
      "metadata": {
        "id": "5BV3fSWPn_B1"
      }
    },
    {
      "cell_type": "code",
      "source": [
        "from queue import LifoQueue\n",
        "\n",
        "class EmailDraftSystem:\n",
        "    def __init__(self):\n",
        "        self.drafts = LifoQueue()\n",
        "\n",
        "    def save_draft(self, recipient, content):\n",
        "        self.drafts.put({\"subject\": \"sa11\", \"recipient\": recipient, \"content\": content})\n",
        "\n",
        "    def view_last_draft(self):\n",
        "        return self.drafts.queue[-1] if not self.drafts.empty() else \"Tidak ada draft!\"\n",
        "\n",
        "# Contoh Penggunaan\n",
        "email_system = EmailDraftSystem()\n",
        "email_system.save_draft(\"user1@videoe.com\", \"Halo, ini draft pertama.\")\n",
        "email_system.save_draft(\"user2@example.com\", \"Ini draft kedua.\")\n",
        "email_system.save_draft(\"user3githube.com\", \"Ini draft ketiga.\")\n",
        "\n",
        "print(email_system.view_last_draft())"
      ],
      "metadata": {
        "colab": {
          "base_uri": "https://localhost:8080/"
        },
        "id": "rn_xenFPnR_D",
        "outputId": "e8f5ce6e-392e-4c8a-8fae-ae35e9de5407"
      },
      "execution_count": 20,
      "outputs": [
        {
          "output_type": "stream",
          "name": "stdout",
          "text": [
            "{'subject': 'sa11', 'recipient': 'user3githube.com', 'content': 'Ini draft ketiga.'}\n"
          ]
        }
      ]
    },
    {
      "cell_type": "code",
      "source": [
        "class CustomerService:\n",
        "    def __init__(self):\n",
        "        self.tickets = []\n",
        "\n",
        "    def add_ticket(self, ticket):\n",
        "        self.tickets.append(ticket)\n",
        "\n",
        "    def process_ticket(self):\n",
        "        if not self.is_empty():\n",
        "            return f\"Memproses tiket: {self.tickets.pop(0)}\"  # Menggunakan pop(0) untuk FIFO\n",
        "        return \"Tidak ada tiket yang harus diproses.\"\n",
        "\n",
        "    def is_empty(self):\n",
        "        return len(self.tickets) == 0\n",
        "\n",
        "# Contoh Penggunaan\n",
        "service = CustomerService()\n",
        "service.add_ticket(\"Tiket 001\")\n",
        "service.add_ticket(\"Tiket 002\")\n",
        "\n",
        "print(service.process_ticket())\n",
        "print(service.is_empty())"
      ],
      "metadata": {
        "colab": {
          "base_uri": "https://localhost:8080/"
        },
        "id": "rL0G6DtYoCNm",
        "outputId": "983e7027-70a3-42fd-e72e-b70b048e119c"
      },
      "execution_count": 19,
      "outputs": [
        {
          "output_type": "stream",
          "name": "stdout",
          "text": [
            "Memproses tiket: Tiket 001\n",
            "False\n"
          ]
        }
      ]
    },
    {
      "cell_type": "markdown",
      "source": [
        "# Latihan 4"
      ],
      "metadata": {
        "id": "Qf3jJxQHoTKa"
      }
    },
    {
      "cell_type": "code",
      "source": [
        "class CinemaTicketSystem:\n",
        "    def __init__(self):\n",
        "        self.tickets = []\n",
        "\n",
        "    def buy_ticket(self, film):\n",
        "        self.tickets.append(film)\n",
        "        print(f\"Tiket untuk film '{film}' telah dibeli.\")\n",
        "\n",
        "    def process_ticket(self):\n",
        "        if self.tickets:\n",
        "            print(f\"Memproses tiket untuk film: {self.tickets.pop()}\")\n",
        "        else:\n",
        "            print(\"Tidak ada tiket yang harus diproses.\")\n",
        "\n",
        "# Input huruf pertama bulan lahir dan dua digit terakhir NPM\n",
        "bulan_lahir = input(\"Masukkan huruf pertama bulan lahir: \")\n",
        "npm = input(\"Masukkan dua digit terakhir NPM: \")\n",
        "prefix = bulan_lahir[0].upper() + npm  # Format: Huruf pertama bulan + dua digit NPM\n",
        "\n",
        "cinema = CinemaTicketSystem()\n",
        "\n",
        "# Input judul film yang diinginkan\n",
        "print(\"\\nMasukkan judul film yang ingin dibeli:\")\n",
        "film1 = input(\"Judul film 1: \")\n",
        "film2 = input(\"Judul film 2: \")\n",
        "film3 = input(\"Judul film 3: \")\n",
        "\n",
        "# Beli tiket untuk film yang diinput\n",
        "cinema.buy_ticket(f\"{prefix}_{film1}\")\n",
        "cinema.buy_ticket(f\"{prefix}_{film2}\")\n",
        "cinema.buy_ticket(f\"{prefix}_{film3}\")\n",
        "\n",
        "# Uji sistem pemrosesan tiket\n",
        "print(\"\\nMemproses tiket:\")\n",
        "cinema.process_ticket()\n",
        "cinema.process_ticket()\n",
        "cinema.process_ticket()"
      ],
      "metadata": {
        "colab": {
          "base_uri": "https://localhost:8080/"
        },
        "id": "yGfF26A9sTgd",
        "outputId": "e732b247-5b81-4a6b-da9e-38524b07866e"
      },
      "execution_count": 21,
      "outputs": [
        {
          "output_type": "stream",
          "name": "stdout",
          "text": [
            "Masukkan huruf pertama bulan lahir: j\n",
            "Masukkan dua digit terakhir NPM: 11\n",
            "\n",
            "Masukkan judul film yang ingin dibeli:\n",
            "Judul film 1: dilan\n",
            "Judul film 2: kkn\n",
            "Judul film 3: matahari\n",
            "Tiket untuk film 'J11_dilan' telah dibeli.\n",
            "Tiket untuk film 'J11_kkn' telah dibeli.\n",
            "Tiket untuk film 'J11_matahari' telah dibeli.\n",
            "\n",
            "Memproses tiket:\n",
            "Memproses tiket untuk film: J11_matahari\n",
            "Memproses tiket untuk film: J11_kkn\n",
            "Memproses tiket untuk film: J11_dilan\n"
          ]
        }
      ]
    }
  ]
}