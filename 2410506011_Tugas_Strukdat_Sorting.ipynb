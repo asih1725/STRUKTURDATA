{
  "nbformat": 4,
  "nbformat_minor": 0,
  "metadata": {
    "colab": {
      "provenance": [],
      "authorship_tag": "ABX9TyMTz10m3mXqVCi9GSDPhDm0",
      "include_colab_link": true
    },
    "kernelspec": {
      "name": "python3",
      "display_name": "Python 3"
    },
    "language_info": {
      "name": "python"
    }
  },
  "cells": [
    {
      "cell_type": "markdown",
      "metadata": {
        "id": "view-in-github",
        "colab_type": "text"
      },
      "source": [
        "<a href=\"https://colab.research.google.com/github/asih1725/STRUKTURDATA/blob/main/2410506011_Tugas_Strukdat_Sorting.ipynb\" target=\"_parent\"><img src=\"https://colab.research.google.com/assets/colab-badge.svg\" alt=\"Open In Colab\"/></a>"
      ]
    },
    {
      "cell_type": "code",
      "source": [
        "def bubble_sort(arr):\n",
        "  n = len(arr)\n",
        "  for i in range(n - 1):\n",
        "    for j in range(n - i - 1):\n",
        "      if arr[j] > arr[j + 1]:\n",
        "        arr[j], arr[j + 1] = arr[j + 1], arr[j]\n",
        "  return arr\n",
        "\n",
        "#contoh penggunaan\n",
        "data = [64, 34, 25, 12, 22, 11, 90]\n",
        "sorted_data = bubble_sort(data.copy()) # menggunakan copy agar data asli tidak berubah\n",
        "print(\"data sebelum sorting:\", data)\n",
        "print(\"data sebelum bubble sort:\", sorted_data)"
      ],
      "metadata": {
        "colab": {
          "base_uri": "https://localhost:8080/"
        },
        "id": "2evExXndavRl",
        "outputId": "78767ba0-8bde-4e6e-cfed-b4dd16ee4d1a"
      },
      "execution_count": null,
      "outputs": [
        {
          "output_type": "stream",
          "name": "stdout",
          "text": [
            "data sebelum sorting: [64, 34, 25, 12, 22, 11, 90]\n",
            "data sebelum bubble sort: [11, 12, 22, 25, 34, 64, 90]\n"
          ]
        }
      ]
    },
    {
      "cell_type": "code",
      "source": [
        "def selection_sort(arr):\n",
        "    n = len(arr)\n",
        "    for i in range(n - 1):\n",
        "        min_index = i\n",
        "        for j in range(i + 1, n):\n",
        "            if arr[j] < arr[min_index]:\n",
        "                min_index = j\n",
        "        arr[i], arr[min_index] = arr[min_index], arr[i]\n",
        "    return arr\n",
        "\n",
        "# Contoh penggunaan\n",
        "data = [64, 34, 25, 12, 22, 11, 90]\n",
        "sorted_data = selection_sort(data.copy())\n",
        "print(\"Data sebelum sorting:\", data)\n",
        "print(\"Data setelah sorting:\", sorted_data)"
      ],
      "metadata": {
        "colab": {
          "base_uri": "https://localhost:8080/"
        },
        "id": "JHBohX6cjgVu",
        "outputId": "6759096a-bcc8-4e1c-c62b-0531348458e6"
      },
      "execution_count": 1,
      "outputs": [
        {
          "output_type": "stream",
          "name": "stdout",
          "text": [
            "Data sebelum sorting: [64, 34, 25, 12, 22, 11, 90]\n",
            "Data setelah sorting: [11, 12, 22, 25, 34, 64, 90]\n"
          ]
        }
      ]
    },
    {
      "cell_type": "code",
      "source": [
        "def insertion_sort(arr):\n",
        "  n = len(arr)\n",
        "  for i in range(1, n):\n",
        "    key = arr[i]\n",
        "    j = i - 1\n",
        "    while j >= 0 and arr[j] > key:\n",
        "      arr[j + 1] = arr[j]\n",
        "      j -= 1\n",
        "    arr[j + 1] = key\n",
        "  return arr\n",
        "# contoh penggunaan\n",
        "data = [64, 34, 25, 12, 22, 11, 90]\n",
        "sorted_data = insertion_sort(data.copy())\n",
        "print(\"data sebelum sorting:\", data)\n",
        "print(\"data setelah insertion sort:\", sorted_data)"
      ],
      "metadata": {
        "colab": {
          "base_uri": "https://localhost:8080/"
        },
        "id": "9wLagmSCb589",
        "outputId": "37a6f9b2-307a-40b3-b39a-17df4ca9a508"
      },
      "execution_count": null,
      "outputs": [
        {
          "output_type": "stream",
          "name": "stdout",
          "text": [
            "data sebelum sorting: [64, 34, 25, 12, 22, 11, 90]\n",
            "data setelah insertion sort: [11, 12, 22, 25, 34, 64, 90]\n"
          ]
        }
      ]
    },
    {
      "cell_type": "code",
      "source": [
        "def marge_sort(arr):\n",
        "  if len(arr) > 1:\n",
        "    mid = len(arr) // 2\n",
        "    left_half = arr[:mid]\n",
        "    right_half = arr[mid:]\n",
        "\n",
        "    marge_sort(left_half)\n",
        "    marge_sort(right_half)\n",
        "\n",
        "    i = j = k = 0\n",
        "\n",
        "    while i < len(left_half) and j < len(right_half):\n",
        "      if left_half[i] < right_half[j]:\n",
        "        arr[k] = left_half[i]\n",
        "        i += 1\n",
        "      else:\n",
        "        arr[k] = right_half[j]\n",
        "        j += 1\n",
        "      k += 1\n",
        "\n",
        "    while i < len(left_half):\n",
        "      arr[k] = left_half[i]\n",
        "      i += 1\n",
        "      k +- 1\n",
        "\n",
        "    while j < len(right_half):\n",
        "      arr[k] = right_half[j]\n",
        "      j += 1\n",
        "      k +- 1\n",
        "  return arr\n",
        "\n",
        "#contoh penggunaan\n",
        "data = [64, 34, 25, 12, 22, 11]\n",
        "sorted_data = marge_sort(data.copy())\n",
        "print(\"data sebelum sorting:\", data)\n",
        "print(\"data setelah marge sort:\", sorted_data)"
      ],
      "metadata": {
        "colab": {
          "base_uri": "https://localhost:8080/"
        },
        "id": "9UAaX1iUcrtk",
        "outputId": "e25c6820-9cb8-4304-c488-3bc85bbcf2a7"
      },
      "execution_count": null,
      "outputs": [
        {
          "output_type": "stream",
          "name": "stdout",
          "text": [
            "data sebelum sorting: [64, 34, 25, 12, 22, 11]\n",
            "data setelah marge sort: [11, 12, 22, 64, 22, 11]\n"
          ]
        }
      ]
    },
    {
      "cell_type": "code",
      "source": [
        "def quick_sort(arr):\n",
        "  if len(arr) <= 1:\n",
        "    return arr\n",
        "\n",
        "  pivot = arr[len(arr) // 2]\n",
        "  left = [x for x in arr if x < pivot]\n",
        "  middle = [x for x in arr if x == pivot]\n",
        "  right = [x for x in arr if x > pivot]\n",
        "\n",
        "  return quick_sort(left) + middle + quick_sort(right)\n",
        "\n",
        "# contoh penggunaan\n",
        "data = [64, 25, 12, 22, 11]\n",
        "sorted_data = quick_sort(data.copy())\n",
        "print(\"data sebelum sorting:\", data)\n",
        "print(\"data setelah quick sort:\", sorted_data)"
      ],
      "metadata": {
        "colab": {
          "base_uri": "https://localhost:8080/"
        },
        "id": "xmP83ZzZeP8L",
        "outputId": "93ea9892-32ff-4fb2-9970-742683515ac4"
      },
      "execution_count": null,
      "outputs": [
        {
          "output_type": "stream",
          "name": "stdout",
          "text": [
            "data sebelum sorting: [64, 25, 12, 22, 11]\n",
            "data setelah quick sort: [11, 12, 22, 25, 64]\n"
          ]
        }
      ]
    },
    {
      "cell_type": "markdown",
      "source": [
        "# Latihan dan Tugas"
      ],
      "metadata": {
        "id": "MqrHJ_kIe18z"
      }
    },
    {
      "cell_type": "code",
      "source": [
        "def quick_sort(arr, key):\n",
        "    if len(arr) <= 1:\n",
        "        return arr\n",
        "\n",
        "    pivot = arr[len(arr) // 2][key]\n",
        "\n",
        "    if isinstance(pivot, str):\n",
        "        left = [x for x in arr if str(x[key]).lower() < str(pivot).lower()]\n",
        "        middle = [x for x in arr if str(x[key]).lower() == str(pivot).lower()]\n",
        "        right = [x for x in arr if str(x[key]).lower() > str(pivot).lower()]\n",
        "    else:\n",
        "        left = [x for x in arr if x[key] < pivot]\n",
        "        middle = [x for x in arr if x[key] == pivot]\n",
        "        right = [x for x in arr if x[key] > pivot]\n",
        "\n",
        "    return quick_sort(left, key) + middle + quick_sort(right, key)\n",
        "\n",
        "# Data pelanggan\n",
        "data_pelanggan = [\n",
        "    {\"nama\": \"Budi\", \"umur\": 30, \"total_belanja\": 500000},\n",
        "    {\"nama\": \"Ani\", \"umur\": 25, \"total_belanja\": 750000},\n",
        "    {\"nama\": \"Zaki\", \"umur\": 35, \"total_belanja\": 200000},\n",
        "    {\"nama\": \"Dina\", \"umur\": 28, \"total_belanja\": 900000},\n",
        "    {\"nama\": \"Charlie\", \"umur\": 40, \"total_belanja\": 300000}\n",
        "]\n",
        "\n",
        "# Contoh penggunaan\n",
        "sorted_by_nama = quick_sort(data_pelanggan, \"nama\")\n",
        "sorted_by_umur = quick_sort(data_pelanggan, \"umur\")\n",
        "sorted_by_total_belanja = quick_sort(data_pelanggan, \"total_belanja\")\n",
        "\n",
        "print(\"Sorted Nama:\", sorted_by_nama)\n",
        "print(\"Sorted Umur:\", sorted_by_umur)\n",
        "print(\"Sorted Total Belanja:\", sorted_by_total_belanja)"
      ],
      "metadata": {
        "colab": {
          "base_uri": "https://localhost:8080/"
        },
        "id": "jL3pYMyJe6Qj",
        "outputId": "4b815aa0-0d41-4c31-cdd6-246ea9386e9d"
      },
      "execution_count": null,
      "outputs": [
        {
          "output_type": "stream",
          "name": "stdout",
          "text": [
            "Sorted Nama: [{'nama': 'Ani', 'umur': 25, 'total_belanja': 750000}, {'nama': 'Budi', 'umur': 30, 'total_belanja': 500000}, {'nama': 'Charlie', 'umur': 40, 'total_belanja': 300000}, {'nama': 'Dina', 'umur': 28, 'total_belanja': 900000}, {'nama': 'Zaki', 'umur': 35, 'total_belanja': 200000}]\n",
            "Sorted Umur: [{'nama': 'Ani', 'umur': 25, 'total_belanja': 750000}, {'nama': 'Dina', 'umur': 28, 'total_belanja': 900000}, {'nama': 'Budi', 'umur': 30, 'total_belanja': 500000}, {'nama': 'Zaki', 'umur': 35, 'total_belanja': 200000}, {'nama': 'Charlie', 'umur': 40, 'total_belanja': 300000}]\n",
            "Sorted Total Belanja: [{'nama': 'Zaki', 'umur': 35, 'total_belanja': 200000}, {'nama': 'Charlie', 'umur': 40, 'total_belanja': 300000}, {'nama': 'Budi', 'umur': 30, 'total_belanja': 500000}, {'nama': 'Ani', 'umur': 25, 'total_belanja': 750000}, {'nama': 'Dina', 'umur': 28, 'total_belanja': 900000}]\n"
          ]
        }
      ]
    }
  ]
}