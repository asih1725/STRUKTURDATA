{
  "nbformat": 4,
  "nbformat_minor": 0,
  "metadata": {
    "colab": {
      "provenance": [],
      "authorship_tag": "ABX9TyNDknGwizpLmiOoQvx0+39h",
      "include_colab_link": true
    },
    "kernelspec": {
      "name": "python3",
      "display_name": "Python 3"
    },
    "language_info": {
      "name": "python"
    }
  },
  "cells": [
    {
      "cell_type": "markdown",
      "metadata": {
        "id": "view-in-github",
        "colab_type": "text"
      },
      "source": [
        "<a href=\"https://colab.research.google.com/github/asih1725/STRUKTURDATA/blob/main/2410506011_Tugas_Strukdat_LinkedList.ipynb\" target=\"_parent\"><img src=\"https://colab.research.google.com/assets/colab-badge.svg\" alt=\"Open In Colab\"/></a>"
      ]
    },
    {
      "cell_type": "code",
      "execution_count": 3,
      "metadata": {
        "colab": {
          "base_uri": "https://localhost:8080/"
        },
        "id": "nMf5cZqA5Hsq",
        "outputId": "14c00daf-466f-4363-a7ee-a04208ee754d"
      },
      "outputs": [
        {
          "output_type": "stream",
          "name": "stdout",
          "text": [
            "Masukkan nama satpam ke-1: lika\n",
            "Masukkan nama satpam ke-2: asih\n",
            "Masukkan nama satpam ke-3: nadhifa\n",
            "Masukkan nama satpam ke-4: septi\n",
            "\n",
            "Jadwal Piket Satpam Selama 2 Minggu:\n",
            "\n",
            "Hari 1: lika\n",
            "Hari 2: asih\n",
            "Hari 3: nadhifa\n",
            "Hari 4: septi\n",
            "Hari 5: lika\n",
            "Hari 6: asih\n",
            "Hari 7: nadhifa\n",
            "Hari 8: septi\n",
            "Hari 9: lika\n",
            "Hari 10: asih\n",
            "Hari 11: nadhifa\n",
            "Hari 12: septi\n",
            "Hari 13: lika\n",
            "Hari 14: asih\n"
          ]
        }
      ],
      "source": [
        "class SatpamNode:\n",
        "    def __init__(self, name):\n",
        "        self.name = name\n",
        "        self.next = None\n",
        "\n",
        "class CircularLinkedList:\n",
        "    def __init__(self):\n",
        "        self.head = None\n",
        "\n",
        "    def add_satpam(self, name):\n",
        "        new_node = SatpamNode(name)\n",
        "        if not self.head:\n",
        "            self.head = new_node\n",
        "            self.head.next = self.head\n",
        "        else:\n",
        "            temp = self.head\n",
        "            while temp.next != self.head:\n",
        "                temp = temp.next\n",
        "            temp.next = new_node\n",
        "            new_node.next = self.head\n",
        "\n",
        "    def print_schedule(self, days=14):\n",
        "        if not self.head:\n",
        "            print(\"Tidak ada satpam yang bertugas.\")\n",
        "            return\n",
        "\n",
        "        print(\"\\nJadwal Piket Satpam Selama 2 Minggu:\\n\")\n",
        "        current = self.head\n",
        "\n",
        "        for day in range(1, days + 1):\n",
        "            print(f\"Hari {day}: {current.name}\")\n",
        "            current = current.next\n",
        "\n",
        "#MAIN\n",
        "satpam_list = CircularLinkedList()\n",
        "\n",
        "for i in range(1, 5):\n",
        "    name = input(f\"Masukkan nama satpam ke-{i}: \")\n",
        "    satpam_list.add_satpam(name)\n",
        "\n",
        "satpam_list.print_schedule()"
      ]
    }
  ]
}